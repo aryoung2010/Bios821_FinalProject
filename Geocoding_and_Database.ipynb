{
 "cells": [
  {
   "cell_type": "code",
   "execution_count": 25,
   "metadata": {},
   "outputs": [],
   "source": [
    "#### Import packages\n",
    "import sqlite3\n",
    "import os\n",
    "import requests"
   ]
  },
  {
   "cell_type": "code",
   "execution_count": 26,
   "metadata": {},
   "outputs": [],
   "source": [
    "### Connect to the database\n",
    "connection = sqlite3.connect(\"database.sqlite\")"
   ]
  },
  {
   "cell_type": "code",
   "execution_count": 27,
   "metadata": {},
   "outputs": [],
   "source": [
    "# cursor  \n",
    "crsr = connection.cursor() "
   ]
  },
  {
   "cell_type": "code",
   "execution_count": 28,
   "metadata": {},
   "outputs": [
    {
     "name": "stdout",
     "output_type": "stream",
     "text": [
      "Connection is established: Database is created in memory\n"
     ]
    }
   ],
   "source": [
    "from sqlite3 import Error\n",
    "\n",
    "## Check connection\n",
    "def sql_connection():\n",
    "    try:\n",
    "        con = sqlite3.connect(':memory:')\n",
    "        print(\"Connection is established: Database is created in memory\")\n",
    "    except Error:\n",
    "        print(Error)\n",
    "    finally:\n",
    "        con.close()\n",
    "sql_connection()\n"
   ]
  },
  {
   "cell_type": "code",
   "execution_count": 34,
   "metadata": {},
   "outputs": [
    {
     "name": "stdout",
     "output_type": "stream",
     "text": [
      "[('sqlite_sequence',), ('Player_Attributes',), ('Player',), ('Match',), ('League',), ('Country',), ('Team',), ('Team_Attributes',), ('geocodes',)]\n"
     ]
    }
   ],
   "source": [
    "## Print all table names to preview table content\n",
    "def sql_fetch(con):\n",
    "    cursorObj = con.cursor() \n",
    "    cursorObj.execute('SELECT name from sqlite_master where type= \"table\"')\n",
    "    tables = cursorObj.fetchall()\n",
    "    return tables\n",
    "\n",
    "tables = sql_fetch(connection)\n",
    "print(tables)"
   ]
  },
  {
   "cell_type": "code",
   "execution_count": 38,
   "metadata": {},
   "outputs": [
    {
     "data": {
      "text/plain": [
       "('geocodes',)"
      ]
     },
     "execution_count": 38,
     "metadata": {},
     "output_type": "execute_result"
    }
   ],
   "source": [
    "tables[-1]"
   ]
  },
  {
   "cell_type": "code",
   "execution_count": 30,
   "metadata": {},
   "outputs": [
    {
     "name": "stdout",
     "output_type": "stream",
     "text": [
      "(('id', None, None, None, None, None, None), ('name', None, None, None, None, None, None))\n"
     ]
    }
   ],
   "source": [
    "### Get column names for the country table, to see how to link to the new geocode table\n",
    "def sql_fetch_colnames(con):\n",
    "    cursorObj = con.cursor() \n",
    "    cursorObj.execute('SELECT * FROM Country')\n",
    "    print(cursorObj.description)\n",
    "\n",
    "sql_fetch_colnames(connection)\n"
   ]
  },
  {
   "cell_type": "code",
   "execution_count": 49,
   "metadata": {},
   "outputs": [
    {
     "name": "stdout",
     "output_type": "stream",
     "text": [
      "Table already exixts\n"
     ]
    },
    {
     "data": {
      "text/plain": [
       "[('sqlite_sequence',),\n",
       " ('Player_Attributes',),\n",
       " ('Player',),\n",
       " ('Match',),\n",
       " ('League',),\n",
       " ('Country',),\n",
       " ('Team',),\n",
       " ('Team_Attributes',),\n",
       " ('geocodes',)]"
      ]
     },
     "execution_count": 49,
     "metadata": {},
     "output_type": "execute_result"
    }
   ],
   "source": [
    "### create the geocode table-- \n",
    "## with foreign keys for country name and country id \n",
    "## put in a check on if the table exists, so it won't throw an error\n",
    "\n",
    "def sql_table(con): \n",
    "    cursorObj = con.cursor() \n",
    "    tables = sql_fetch(connection)\n",
    "    if ('geocodes',) in tables:\n",
    "        print(\"Table already exixts\")\n",
    "    else:\n",
    "        cursorObj.execute(\"CREATE TABLE geocodes(id integer PRIMARY KEY, country_id integer, country_name text, lat real, long real, CONSTRAINT fk_country_id FOREIGN KEY (country_id) REFERENCES Country(id),CONSTRAINT fk_country_name FOREIGN KEY (country_name) REFERENCES Country(name))\")\n",
    "\n",
    "    con.commit()\n",
    "\n",
    "sql_table(connection)\n",
    "\n",
    "## check the tables to be sure it has been added\n",
    "sql_fetch(connection)"
   ]
  },
  {
   "cell_type": "code",
   "execution_count": 50,
   "metadata": {},
   "outputs": [
    {
     "name": "stdout",
     "output_type": "stream",
     "text": [
      "/Users/allisonyoung\n"
     ]
    }
   ],
   "source": [
    "## Be sure you can print the os package environment is set to the correct location, where the API key is stored\n",
    "print(os.environ['HOME'])"
   ]
  },
  {
   "cell_type": "code",
   "execution_count": 22,
   "metadata": {},
   "outputs": [],
   "source": [
    "## test out a request, to get lat and long of the first result of the search word, limited to countries and using the local environment variable\n",
    "country = \"France\"\n",
    "map_pass = os.environ.get('MAP_PASS') \n",
    "\n",
    "response = requests.get(\"https://api.mapbox.com/geocoding/v5/mapbox.places/{}.json?types=country&access_token={}\".format(country,map_pass))\n",
    "data = response.json()\n",
    "\n",
    "### Save the latitude and longitude variables to put in the geocodes table\n",
    "long = data['features'][0]['center'][0]\n",
    "lat = data['features'][0]['center'][1]"
   ]
  },
  {
   "cell_type": "code",
   "execution_count": 23,
   "metadata": {},
   "outputs": [
    {
     "name": "stdout",
     "output_type": "stream",
     "text": [
      "longitude: 2 2\n",
      "latitude: 47 47\n"
     ]
    }
   ],
   "source": [
    "## Check that the values are correct\n",
    "print(\"longitude:\", data['features'][0]['center'][0], long)\n",
    "print(\"latitude:\", data['features'][0]['center'][1], lat)"
   ]
  },
  {
   "cell_type": "code",
   "execution_count": 28,
   "metadata": {},
   "outputs": [
    {
     "name": "stdout",
     "output_type": "stream",
     "text": [
      "None\n"
     ]
    }
   ],
   "source": [
    "### check that the country names are connected to the SQL geocodes table"
   ]
  },
  {
   "cell_type": "code",
   "execution_count": null,
   "metadata": {},
   "outputs": [],
   "source": [
    "### for each country name, perform a get request and store the lat long variables"
   ]
  },
  {
   "cell_type": "code",
   "execution_count": null,
   "metadata": {},
   "outputs": [],
   "source": [
    "### write the lat and long variables to the table"
   ]
  }
 ],
 "metadata": {
  "kernelspec": {
   "display_name": "Python 3",
   "language": "python",
   "name": "python3"
  },
  "language_info": {
   "codemirror_mode": {
    "name": "ipython",
    "version": 3
   },
   "file_extension": ".py",
   "mimetype": "text/x-python",
   "name": "python",
   "nbconvert_exporter": "python",
   "pygments_lexer": "ipython3",
   "version": "3.7.3"
  }
 },
 "nbformat": 4,
 "nbformat_minor": 2
}
