{
 "cells": [
  {
   "cell_type": "code",
   "execution_count": 25,
   "metadata": {},
   "outputs": [],
   "source": [
    "#### Import packages\n",
    "import sqlite3\n",
    "import os\n",
    "import requests"
   ]
  },
  {
   "cell_type": "code",
   "execution_count": null,
   "metadata": {},
   "outputs": [],
   "source": [
    "\n",
    "## Be sure you can print the os package environment is set to the correct location, where the API key is stored\n",
    "print(os.environ['HOME'])\n",
    "### Set API Key\n",
    "map_pass = os.environ.get('MAP_PASS') \n"
   ]
  },
  {
   "cell_type": "code",
   "execution_count": 26,
   "metadata": {},
   "outputs": [],
   "source": [
    "### Connect to the database\n",
    "connection = sqlite3.connect(\"database.sqlite\")"
   ]
  },
  {
   "cell_type": "code",
   "execution_count": 27,
   "metadata": {},
   "outputs": [],
   "source": [
    "# cursor  \n",
    "crsr = connection.cursor() "
   ]
  },
  {
   "cell_type": "code",
   "execution_count": 28,
   "metadata": {},
   "outputs": [
    {
     "name": "stdout",
     "output_type": "stream",
     "text": [
      "Connection is established: Database is created in memory\n"
     ]
    }
   ],
   "source": [
    "from sqlite3 import Error\n",
    "\n",
    "## Check connection\n",
    "def sql_connection():\n",
    "    try:\n",
    "        con = sqlite3.connect(':memory:')\n",
    "        print(\"Connection is established: Database is created in memory\")\n",
    "    except Error:\n",
    "        print(Error)\n",
    "    finally:\n",
    "        con.close()\n",
    "sql_connection()\n"
   ]
  },
  {
   "cell_type": "code",
   "execution_count": 34,
   "metadata": {},
   "outputs": [
    {
     "name": "stdout",
     "output_type": "stream",
     "text": [
      "[('sqlite_sequence',), ('Player_Attributes',), ('Player',), ('Match',), ('League',), ('Country',), ('Team',), ('Team_Attributes',), ('geocodes',)]\n"
     ]
    }
   ],
   "source": [
    "## Print all table names to preview table content\n",
    "def sql_fetch(con):\n",
    "    cursorObj = con.cursor() \n",
    "    cursorObj.execute('SELECT name from sqlite_master where type= \"table\"')\n",
    "    tables = cursorObj.fetchall()\n",
    "    return tables\n",
    "\n",
    "tables = sql_fetch(connection)\n",
    "print(tables)"
   ]
  },
  {
   "cell_type": "code",
   "execution_count": 49,
   "metadata": {},
   "outputs": [
    {
     "name": "stdout",
     "output_type": "stream",
     "text": [
      "Table already exixts\n"
     ]
    },
    {
     "data": {
      "text/plain": [
       "[('sqlite_sequence',),\n",
       " ('Player_Attributes',),\n",
       " ('Player',),\n",
       " ('Match',),\n",
       " ('League',),\n",
       " ('Country',),\n",
       " ('Team',),\n",
       " ('Team_Attributes',),\n",
       " ('geocodes',)]"
      ]
     },
     "execution_count": 49,
     "metadata": {},
     "output_type": "execute_result"
    }
   ],
   "source": [
    "### create the geocode table-- \n",
    "## with foreign keys for country name and country id \n",
    "## put in a check on if the table exists, so it won't throw an error\n",
    "\n",
    "def sql_table(con): \n",
    "    cursorObj = con.cursor() \n",
    "    tables = sql_fetch(connection)\n",
    "    if ('geocodes',) in tables:\n",
    "        print(\"Table already exixts\")\n",
    "    else:\n",
    "        cursorObj.execute(\"CREATE TABLE geocodes(id integer PRIMARY KEY, country_id integer, country_name text, lat real, long real, CONSTRAINT fk_country_id FOREIGN KEY (country_id) REFERENCES Country(id),CONSTRAINT fk_country_name FOREIGN KEY (country_name) REFERENCES Country(name))\")\n",
    "\n",
    "    con.commit()\n",
    "\n",
    "sql_table(connection)\n",
    "\n",
    "## check the tables to be sure it has been added\n",
    "sql_fetch(connection)"
   ]
  },
  {
   "cell_type": "code",
   "execution_count": 76,
   "metadata": {},
   "outputs": [
    {
     "name": "stdout",
     "output_type": "stream",
     "text": [
      "[(1, 'Belgium'), (1729, 'England'), (4769, 'France'), (7809, 'Germany'), (10257, 'Italy'), (13274, 'Netherlands'), (15722, 'Poland'), (17642, 'Portugal'), (19694, 'Scotland'), (21518, 'Spain'), (24558, 'Switzerland')]\n"
     ]
    }
   ],
   "source": [
    "### Get values for the country table, to see can be sure they link to the new geocode table\n",
    "def sql_fetch_countries(con):\n",
    "    cursorObj = con.cursor() \n",
    "    cursorObj.execute('SELECT * FROM Country')\n",
    "    countries= cursorObj.fetchall()\n",
    "    return countries\n",
    "\n",
    "countries = sql_fetch_countries(connection)\n",
    "print(countries)"
   ]
  },
  {
   "cell_type": "code",
   "execution_count": 107,
   "metadata": {},
   "outputs": [],
   "source": [
    "## test out a request, to get lat and long of the first result of the search word, limited to countries and using the local environment variable\n",
    "country = \"England\"\n",
    "\n",
    "response = requests.get(\"https://api.mapbox.com/geocoding/v5/mapbox.places/{}.json?access_token={}\".format(country,map_pass))\n",
    "data = response.json()\n",
    "\n",
    "### Save the latitude and longitude variables to put in the geocodes table\n",
    "long = data['features'][0]['center'][0]\n",
    "lat = data['features'][0]['center'][1]"
   ]
  },
  {
   "cell_type": "code",
   "execution_count": 109,
   "metadata": {},
   "outputs": [
    {
     "name": "stdout",
     "output_type": "stream",
     "text": [
      "longitude: -0.11667 -0.11667\n",
      "latitude: 51.5 51.5\n"
     ]
    }
   ],
   "source": [
    "## Check that the values are correct\n",
    "print(\"longitude:\", data['features'][0]['center'][0], long)\n",
    "print(\"latitude:\", data['features'][0]['center'][1], lat)"
   ]
  },
  {
   "cell_type": "code",
   "execution_count": 115,
   "metadata": {},
   "outputs": [
    {
     "name": "stdout",
     "output_type": "stream",
     "text": [
      "['Belgium', 'England', 'France', 'Germany', 'Italy', 'Netherlands', 'Poland', 'Portugal', 'Scotland', 'Spain', 'Switzerland']\n",
      "[1, 1729, 4769, 7809, 10257, 13274, 15722, 17642, 19694, 21518, 24558]\n"
     ]
    }
   ],
   "source": [
    "## create search list\n",
    "ids = []\n",
    "words = []\n",
    "countries = sql_fetch_countries(connection)\n",
    "for a,b in countries:\n",
    "    words.append(b)\n",
    "    ids.append(a)\n",
    "\n",
    "print(words)\n",
    "print(ids)"
   ]
  },
  {
   "cell_type": "code",
   "execution_count": 116,
   "metadata": {},
   "outputs": [
    {
     "name": "stdout",
     "output_type": "stream",
     "text": [
      "[(1, 'Belgium', 51, 5), (1729, 'England', 51.5, -0.11667), (4769, 'France', 47, 2), (7809, 'Germany', 51, 10), (10257, 'Italy', 43, 12), (13274, 'Netherlands', 52.31667, 5.55), (15722, 'Poland', 52, 19), (17642, 'Portugal', 38.7, -9.18333), (19694, 'Scotland', 57, -5), (21518, 'Spain', 40, -3), (24558, 'Switzerland', 46.79856, 8.23197)]\n"
     ]
    }
   ],
   "source": [
    "### for each country name, perform a get request and store the lat long variables\n",
    "long = []\n",
    "lat = []\n",
    "for i in words:\n",
    "    response = requests.get(\"https://api.mapbox.com/geocoding/v5/mapbox.places/{}.json?access_token={}\".format(i,map_pass))\n",
    "    data = response.json()\n",
    "    long.append(data['features'][0]['center'][0])\n",
    "    lat.append(data['features'][0]['center'][1])\n",
    "\n",
    "data_tuples = list(zip(ids,words,lat,long))\n",
    "\n",
    "print(data_tuples)\n"
   ]
  },
  {
   "cell_type": "code",
   "execution_count": 118,
   "metadata": {},
   "outputs": [
    {
     "name": "stdout",
     "output_type": "stream",
     "text": [
      "1 Belgium 51 5\n",
      "1729 England 51.5 -0.11667\n",
      "4769 France 47 2\n",
      "7809 Germany 51 10\n",
      "10257 Italy 43 12\n",
      "13274 Netherlands 52.31667 5.55\n",
      "15722 Poland 52 19\n",
      "17642 Portugal 38.7 -9.18333\n",
      "19694 Scotland 57 -5\n",
      "21518 Spain 40 -3\n",
      "24558 Switzerland 46.79856 8.23197\n"
     ]
    }
   ],
   "source": [
    "def add_table_values(con, data_tuples):\n",
    "    cursorObj = con.cursor() \n",
    "    i =1\n",
    "    for a,b,c,d in data_tuples:\n",
    "        print(i,a,b,c,d)\n",
    "        cursorObj.execute('INSERT INTO geocodes (id,country_id, country_name, lat, long) VALUES (?,?,?,?,?)', (i,a,b,c,d))\n",
    "        i += 1\n",
    "    con.commit()\n",
    "\n",
    "add_table_values(connection, data_tuples)"
   ]
  },
  {
   "cell_type": "code",
   "execution_count": 119,
   "metadata": {},
   "outputs": [
    {
     "data": {
      "text/plain": [
       "[(1, 1, 'Belgium', None, None),\n",
       " (2, 1729, 'England', None, None),\n",
       " (3, 4769, 'France', None, None),\n",
       " (4, 7809, 'Germany', None, None),\n",
       " (5, 10257, 'Italy', None, None),\n",
       " (6, 13274, 'Netherlands', None, None),\n",
       " (7, 15722, 'Poland', None, None),\n",
       " (8, 17642, 'Portugal', None, None),\n",
       " (9, 19694, 'Scotland', None, None),\n",
       " (10, 21518, 'Spain', None, None),\n",
       " (11, 24558, 'Switzerland', None, None),\n",
       " (12, 1, 'Belgium', 51.0, 5.0),\n",
       " (13, 1729, 'England', 51.5, -0.11667),\n",
       " (14, 4769, 'France', 47.0, 2.0),\n",
       " (15, 7809, 'Germany', 51.0, 10.0),\n",
       " (16, 10257, 'Italy', 43.0, 12.0),\n",
       " (17, 13274, 'Netherlands', 52.31667, 5.55),\n",
       " (18, 15722, 'Poland', 52.0, 19.0),\n",
       " (19, 17642, 'Portugal', 38.7, -9.18333),\n",
       " (20, 19694, 'Scotland', 57.0, -5.0),\n",
       " (21, 21518, 'Spain', 40.0, -3.0),\n",
       " (22, 24558, 'Switzerland', 46.79856, 8.23197)]"
      ]
     },
     "execution_count": 119,
     "metadata": {},
     "output_type": "execute_result"
    }
   ],
   "source": [
    "### Get values for the geocodes table, to see how to link to the new geocode table\n",
    "def sql_fetch_rows(con):\n",
    "    cursorObj = con.cursor() \n",
    "    cursorObj.execute('SELECT * FROM geocodes')\n",
    "    geos= cursorObj.fetchall()\n",
    "    return geos\n",
    "\n",
    "sql_fetch_rows(connection)\n"
   ]
  }
 ],
 "metadata": {
  "kernelspec": {
   "display_name": "Python 3",
   "language": "python",
   "name": "python3"
  },
  "language_info": {
   "codemirror_mode": {
    "name": "ipython",
    "version": 3
   },
   "file_extension": ".py",
   "mimetype": "text/x-python",
   "name": "python",
   "nbconvert_exporter": "python",
   "pygments_lexer": "ipython3",
   "version": "3.7.3"
  }
 },
 "nbformat": 4,
 "nbformat_minor": 2
}
