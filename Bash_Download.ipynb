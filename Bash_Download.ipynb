{
 "cells": [
  {
   "cell_type": "code",
   "execution_count": 1,
   "metadata": {},
   "outputs": [
    {
     "name": "stderr",
     "output_type": "stream",
     "text": [
      "bash: line 8: syntax error near unexpected token `download_dir,'\n",
      "bash: line 8: `prepare_data (download_dir, md5_dir, working_dir ) {'\n"
     ]
    },
    {
     "ename": "CalledProcessError",
     "evalue": "Command 'b'# function (download directory, md5 directory, move y/n)\\n# check if esdb.md5 exists in md5 directory\\n# if file not there, download\\n# check esdb.md5 against downloaded file md5\\n# if md5 same, move file if requested\\n# if md5 different, download, store md5\\n\\nprepare_data (download_dir, md5_dir, working_dir ) {\\n  F = \"soccer.zip\"\\n  m = \"esdb.md5\"\\n  cd download_dir\\n  if [[ -f \"$F\" ]]; then\\n    echo \"$F exist\"\\n    cd md5_dir\\n    if [[ -f $m]]\\n    md5 F > download #save md5 character/number string downloaded(32,end)\\n    cat download > downloadS\\n    cut -d \\' \\' -f 4 downloadS > substringD\\n    cat est.fa.gz.md5 > string #save md5 character/number string given(32,beginning)\\n    cut -d \\' \\' -f 1 string > substring #cut to the first element of the string\\n    #check congruence\\n    if [$substringD == $substring]; then\\n      echo $a\\n\\t    gunzip est.fa.gz\\n\\t    echo \"File has been downloaded and uncompressed.\"\\n    else \\n\\t    echo \"md5 do not match.\"\\n\\t    exit\\n    fi\\n  \\n  \\n  \\n  FILE=/etc/resolv.conf\\n\\n  curl  https://www.kaggle.com/hugomathien/soccer/download > download_dir/soccer.zip\\n  \\n  \\n  commands\\n}\\n\\nif [[ -d $a ]]; then \\n    echo \"$a is a Directory. Downloading\"\\n    cd $a\\n    # dowload data and md5\\n    #curl  http://hgdownload.soe.ucsc.edu/goldenPath/hg38/bigZips/est.fa.gz > est.fa.gz\\n    #curl http://hgdownload.soe.ucsc.edu/goldenPath/hg38/bigZips/est.fa.gz.md5  > est.fa.gz.md5\\n    md5 est.fa.gz > download #save md5 character/number string downloaded(32,end)\\n    cat download > downloadS\\n    cut -d \\' \\' -f 4 downloadS > substringD\\n    cat est.fa.gz.md5 > string #save md5 character/number string given(32,beginning)\\n    cut -d \\' \\' -f 1 string > substring #cut to the first element of the string\\n    #check congruence\\n    if [$substringD == $substring]; then\\n      echo $a\\n\\t    gunzip est.fa.gz\\n\\t    echo \"File has been downloaded and uncompressed.\"\\n    else \\n\\t    echo \"md5 do not match.\"\\n\\t    exit\\n\\t  fi\\n'' returned non-zero exit status 2.",
     "output_type": "error",
     "traceback": [
      "\u001b[0;31m---------------------------------------------------------------------------\u001b[0m",
      "\u001b[0;31mCalledProcessError\u001b[0m                        Traceback (most recent call last)",
      "\u001b[0;32m<ipython-input-1-69db86cc92e0>\u001b[0m in \u001b[0;36m<module>\u001b[0;34m\u001b[0m\n\u001b[0;32m----> 1\u001b[0;31m \u001b[0mget_ipython\u001b[0m\u001b[0;34m(\u001b[0m\u001b[0;34m)\u001b[0m\u001b[0;34m.\u001b[0m\u001b[0mrun_cell_magic\u001b[0m\u001b[0;34m(\u001b[0m\u001b[0;34m'bash'\u001b[0m\u001b[0;34m,\u001b[0m \u001b[0;34m''\u001b[0m\u001b[0;34m,\u001b[0m \u001b[0;34m'# function (download directory, md5 directory, move y/n)\\n# check if esdb.md5 exists in md5 directory\\n# if file not there, download\\n# check esdb.md5 against downloaded file md5\\n# if md5 same, move file if requested\\n# if md5 different, download, store md5\\n\\nprepare_data (download_dir, md5_dir, working_dir ) {\\n  F = \"soccer.zip\"\\n  m = \"esdb.md5\"\\n  cd download_dir\\n  if [[ -f \"$F\" ]]; then\\n    echo \"$F exist\"\\n    cd md5_dir\\n    if [[ -f $m]]\\n    md5 F > download #save md5 character/number string downloaded(32,end)\\n    cat download > downloadS\\n    cut -d \\' \\' -f 4 downloadS > substringD\\n    cat est.fa.gz.md5 > string #save md5 character/number string given(32,beginning)\\n    cut -d \\' \\' -f 1 string > substring #cut to the first element of the string\\n    #check congruence\\n    if [$substringD == $substring]; then\\n      echo $a\\n\\t    gunzip est.fa.gz\\n\\t    echo \"File has been downloaded and uncompressed.\"\\n    else \\n\\t    echo \"md5 do not match.\"\\n\\t    exit\\n    fi\\n  \\n  \\n  \\n  FILE=/etc/resolv.conf\\n\\n  curl  https://www.kaggle.com/hugomathien/soccer/download > download_dir/soccer.zip\\n  \\n  \\n  commands\\n}\\n\\nif [[ -d $a ]]; then \\n    echo \"$a is a Directory. Downloading\"\\n    cd $a\\n    # dowload data and md5\\n    #curl  http://hgdownload.soe.ucsc.edu/goldenPath/hg38/bigZips/est.fa.gz > est.fa.gz\\n    #curl http://hgdownload.soe.ucsc.edu/goldenPath/hg38/bigZips/est.fa.gz.md5  > est.fa.gz.md5\\n    md5 est.fa.gz > download #save md5 character/number string downloaded(32,end)\\n    cat download > downloadS\\n    cut -d \\' \\' -f 4 downloadS > substringD\\n    cat est.fa.gz.md5 > string #save md5 character/number string given(32,beginning)\\n    cut -d \\' \\' -f 1 string > substring #cut to the first element of the string\\n    #check congruence\\n    if [$substringD == $substring]; then\\n      echo $a\\n\\t    gunzip est.fa.gz\\n\\t    echo \"File has been downloaded and uncompressed.\"\\n    else \\n\\t    echo \"md5 do not match.\"\\n\\t    exit\\n\\t  fi\\n'\u001b[0m\u001b[0;34m)\u001b[0m\u001b[0;34m\u001b[0m\u001b[0;34m\u001b[0m\u001b[0m\n\u001b[0m",
      "\u001b[0;32m~/anaconda3/lib/python3.7/site-packages/IPython/core/interactiveshell.py\u001b[0m in \u001b[0;36mrun_cell_magic\u001b[0;34m(self, magic_name, line, cell)\u001b[0m\n\u001b[1;32m   2350\u001b[0m             \u001b[0;32mwith\u001b[0m \u001b[0mself\u001b[0m\u001b[0;34m.\u001b[0m\u001b[0mbuiltin_trap\u001b[0m\u001b[0;34m:\u001b[0m\u001b[0;34m\u001b[0m\u001b[0;34m\u001b[0m\u001b[0m\n\u001b[1;32m   2351\u001b[0m                 \u001b[0margs\u001b[0m \u001b[0;34m=\u001b[0m \u001b[0;34m(\u001b[0m\u001b[0mmagic_arg_s\u001b[0m\u001b[0;34m,\u001b[0m \u001b[0mcell\u001b[0m\u001b[0;34m)\u001b[0m\u001b[0;34m\u001b[0m\u001b[0;34m\u001b[0m\u001b[0m\n\u001b[0;32m-> 2352\u001b[0;31m                 \u001b[0mresult\u001b[0m \u001b[0;34m=\u001b[0m \u001b[0mfn\u001b[0m\u001b[0;34m(\u001b[0m\u001b[0;34m*\u001b[0m\u001b[0margs\u001b[0m\u001b[0;34m,\u001b[0m \u001b[0;34m**\u001b[0m\u001b[0mkwargs\u001b[0m\u001b[0;34m)\u001b[0m\u001b[0;34m\u001b[0m\u001b[0;34m\u001b[0m\u001b[0m\n\u001b[0m\u001b[1;32m   2353\u001b[0m             \u001b[0;32mreturn\u001b[0m \u001b[0mresult\u001b[0m\u001b[0;34m\u001b[0m\u001b[0;34m\u001b[0m\u001b[0m\n\u001b[1;32m   2354\u001b[0m \u001b[0;34m\u001b[0m\u001b[0m\n",
      "\u001b[0;32m~/anaconda3/lib/python3.7/site-packages/IPython/core/magics/script.py\u001b[0m in \u001b[0;36mnamed_script_magic\u001b[0;34m(line, cell)\u001b[0m\n\u001b[1;32m    140\u001b[0m             \u001b[0;32melse\u001b[0m\u001b[0;34m:\u001b[0m\u001b[0;34m\u001b[0m\u001b[0;34m\u001b[0m\u001b[0m\n\u001b[1;32m    141\u001b[0m                 \u001b[0mline\u001b[0m \u001b[0;34m=\u001b[0m \u001b[0mscript\u001b[0m\u001b[0;34m\u001b[0m\u001b[0;34m\u001b[0m\u001b[0m\n\u001b[0;32m--> 142\u001b[0;31m             \u001b[0;32mreturn\u001b[0m \u001b[0mself\u001b[0m\u001b[0;34m.\u001b[0m\u001b[0mshebang\u001b[0m\u001b[0;34m(\u001b[0m\u001b[0mline\u001b[0m\u001b[0;34m,\u001b[0m \u001b[0mcell\u001b[0m\u001b[0;34m)\u001b[0m\u001b[0;34m\u001b[0m\u001b[0;34m\u001b[0m\u001b[0m\n\u001b[0m\u001b[1;32m    143\u001b[0m \u001b[0;34m\u001b[0m\u001b[0m\n\u001b[1;32m    144\u001b[0m         \u001b[0;31m# write a basic docstring:\u001b[0m\u001b[0;34m\u001b[0m\u001b[0;34m\u001b[0m\u001b[0;34m\u001b[0m\u001b[0m\n",
      "\u001b[0;32m</Users/allisonyoung/anaconda3/lib/python3.7/site-packages/decorator.py:decorator-gen-110>\u001b[0m in \u001b[0;36mshebang\u001b[0;34m(self, line, cell)\u001b[0m\n",
      "\u001b[0;32m~/anaconda3/lib/python3.7/site-packages/IPython/core/magic.py\u001b[0m in \u001b[0;36m<lambda>\u001b[0;34m(f, *a, **k)\u001b[0m\n\u001b[1;32m    185\u001b[0m     \u001b[0;31m# but it's overkill for just that one bit of state.\u001b[0m\u001b[0;34m\u001b[0m\u001b[0;34m\u001b[0m\u001b[0;34m\u001b[0m\u001b[0m\n\u001b[1;32m    186\u001b[0m     \u001b[0;32mdef\u001b[0m \u001b[0mmagic_deco\u001b[0m\u001b[0;34m(\u001b[0m\u001b[0marg\u001b[0m\u001b[0;34m)\u001b[0m\u001b[0;34m:\u001b[0m\u001b[0;34m\u001b[0m\u001b[0;34m\u001b[0m\u001b[0m\n\u001b[0;32m--> 187\u001b[0;31m         \u001b[0mcall\u001b[0m \u001b[0;34m=\u001b[0m \u001b[0;32mlambda\u001b[0m \u001b[0mf\u001b[0m\u001b[0;34m,\u001b[0m \u001b[0;34m*\u001b[0m\u001b[0ma\u001b[0m\u001b[0;34m,\u001b[0m \u001b[0;34m**\u001b[0m\u001b[0mk\u001b[0m\u001b[0;34m:\u001b[0m \u001b[0mf\u001b[0m\u001b[0;34m(\u001b[0m\u001b[0;34m*\u001b[0m\u001b[0ma\u001b[0m\u001b[0;34m,\u001b[0m \u001b[0;34m**\u001b[0m\u001b[0mk\u001b[0m\u001b[0;34m)\u001b[0m\u001b[0;34m\u001b[0m\u001b[0;34m\u001b[0m\u001b[0m\n\u001b[0m\u001b[1;32m    188\u001b[0m \u001b[0;34m\u001b[0m\u001b[0m\n\u001b[1;32m    189\u001b[0m         \u001b[0;32mif\u001b[0m \u001b[0mcallable\u001b[0m\u001b[0;34m(\u001b[0m\u001b[0marg\u001b[0m\u001b[0;34m)\u001b[0m\u001b[0;34m:\u001b[0m\u001b[0;34m\u001b[0m\u001b[0;34m\u001b[0m\u001b[0m\n",
      "\u001b[0;32m~/anaconda3/lib/python3.7/site-packages/IPython/core/magics/script.py\u001b[0m in \u001b[0;36mshebang\u001b[0;34m(self, line, cell)\u001b[0m\n\u001b[1;32m    243\u001b[0m             \u001b[0msys\u001b[0m\u001b[0;34m.\u001b[0m\u001b[0mstderr\u001b[0m\u001b[0;34m.\u001b[0m\u001b[0mflush\u001b[0m\u001b[0;34m(\u001b[0m\u001b[0;34m)\u001b[0m\u001b[0;34m\u001b[0m\u001b[0;34m\u001b[0m\u001b[0m\n\u001b[1;32m    244\u001b[0m         \u001b[0;32mif\u001b[0m \u001b[0margs\u001b[0m\u001b[0;34m.\u001b[0m\u001b[0mraise_error\u001b[0m \u001b[0;32mand\u001b[0m \u001b[0mp\u001b[0m\u001b[0;34m.\u001b[0m\u001b[0mreturncode\u001b[0m\u001b[0;34m!=\u001b[0m\u001b[0;36m0\u001b[0m\u001b[0;34m:\u001b[0m\u001b[0;34m\u001b[0m\u001b[0;34m\u001b[0m\u001b[0m\n\u001b[0;32m--> 245\u001b[0;31m             \u001b[0;32mraise\u001b[0m \u001b[0mCalledProcessError\u001b[0m\u001b[0;34m(\u001b[0m\u001b[0mp\u001b[0m\u001b[0;34m.\u001b[0m\u001b[0mreturncode\u001b[0m\u001b[0;34m,\u001b[0m \u001b[0mcell\u001b[0m\u001b[0;34m,\u001b[0m \u001b[0moutput\u001b[0m\u001b[0;34m=\u001b[0m\u001b[0mout\u001b[0m\u001b[0;34m,\u001b[0m \u001b[0mstderr\u001b[0m\u001b[0;34m=\u001b[0m\u001b[0merr\u001b[0m\u001b[0;34m)\u001b[0m\u001b[0;34m\u001b[0m\u001b[0;34m\u001b[0m\u001b[0m\n\u001b[0m\u001b[1;32m    246\u001b[0m \u001b[0;34m\u001b[0m\u001b[0m\n\u001b[1;32m    247\u001b[0m     \u001b[0;32mdef\u001b[0m \u001b[0m_run_script\u001b[0m\u001b[0;34m(\u001b[0m\u001b[0mself\u001b[0m\u001b[0;34m,\u001b[0m \u001b[0mp\u001b[0m\u001b[0;34m,\u001b[0m \u001b[0mcell\u001b[0m\u001b[0;34m,\u001b[0m \u001b[0mto_close\u001b[0m\u001b[0;34m)\u001b[0m\u001b[0;34m:\u001b[0m\u001b[0;34m\u001b[0m\u001b[0;34m\u001b[0m\u001b[0m\n",
      "\u001b[0;31mCalledProcessError\u001b[0m: Command 'b'# function (download directory, md5 directory, move y/n)\\n# check if esdb.md5 exists in md5 directory\\n# if file not there, download\\n# check esdb.md5 against downloaded file md5\\n# if md5 same, move file if requested\\n# if md5 different, download, store md5\\n\\nprepare_data (download_dir, md5_dir, working_dir ) {\\n  F = \"soccer.zip\"\\n  m = \"esdb.md5\"\\n  cd download_dir\\n  if [[ -f \"$F\" ]]; then\\n    echo \"$F exist\"\\n    cd md5_dir\\n    if [[ -f $m]]\\n    md5 F > download #save md5 character/number string downloaded(32,end)\\n    cat download > downloadS\\n    cut -d \\' \\' -f 4 downloadS > substringD\\n    cat est.fa.gz.md5 > string #save md5 character/number string given(32,beginning)\\n    cut -d \\' \\' -f 1 string > substring #cut to the first element of the string\\n    #check congruence\\n    if [$substringD == $substring]; then\\n      echo $a\\n\\t    gunzip est.fa.gz\\n\\t    echo \"File has been downloaded and uncompressed.\"\\n    else \\n\\t    echo \"md5 do not match.\"\\n\\t    exit\\n    fi\\n  \\n  \\n  \\n  FILE=/etc/resolv.conf\\n\\n  curl  https://www.kaggle.com/hugomathien/soccer/download > download_dir/soccer.zip\\n  \\n  \\n  commands\\n}\\n\\nif [[ -d $a ]]; then \\n    echo \"$a is a Directory. Downloading\"\\n    cd $a\\n    # dowload data and md5\\n    #curl  http://hgdownload.soe.ucsc.edu/goldenPath/hg38/bigZips/est.fa.gz > est.fa.gz\\n    #curl http://hgdownload.soe.ucsc.edu/goldenPath/hg38/bigZips/est.fa.gz.md5  > est.fa.gz.md5\\n    md5 est.fa.gz > download #save md5 character/number string downloaded(32,end)\\n    cat download > downloadS\\n    cut -d \\' \\' -f 4 downloadS > substringD\\n    cat est.fa.gz.md5 > string #save md5 character/number string given(32,beginning)\\n    cut -d \\' \\' -f 1 string > substring #cut to the first element of the string\\n    #check congruence\\n    if [$substringD == $substring]; then\\n      echo $a\\n\\t    gunzip est.fa.gz\\n\\t    echo \"File has been downloaded and uncompressed.\"\\n    else \\n\\t    echo \"md5 do not match.\"\\n\\t    exit\\n\\t  fi\\n'' returned non-zero exit status 2."
     ]
    }
   ],
   "source": [
    "%%bash\n",
    "# function (download directory, md5 directory, move y/n)\n",
    "# check if esdb.md5 exists in md5 directory\n",
    "# if file not there, download\n",
    "# check esdb.md5 against downloaded file md5\n",
    "# if md5 same, move file if requested\n",
    "# if md5 different, download, store md5\n",
    "sudo apt-get install unzip\n",
    "\n",
    "prepare_data (download_dir, md5_dir, working_dir ) {\n",
    "    F = \"soccer.zip\"\n",
    "    m = \"esdb.md5\"\n",
    "    cd $download_dir\n",
    "    if [[ -f \"$F\" ]]; then\n",
    "        echo \"$F exists\"\n",
    "    else\n",
    "        curl  https://www.kaggle.com/hugomathien/soccer/download > soccer.zip\n",
    "    cd $md5_dir\n",
    "    if [[ -f \"$m\"]]; then\n",
    "        echo \"$m exists\"\n",
    "    else\n",
    "        curl https://gitlab.oit.duke.edu/bios821/european_soccer_database/raw/master/esdb.md5 > esdb.md5\n",
    "    md5 $F > downloadm #save md5 character/number string downloaded(32,end)\n",
    "    cat downloadm > downloadS\n",
    "    cut -d ' ' -f 4 downloadS > substringD\n",
    "    cat $m > string #save md5 character/number string given(32,beginning)\n",
    "    cut -d ' ' -f 1 string > substring #cut to the first element of the string\n",
    "    #check congruence\n",
    "    if [$substringD == $substring]; then\n",
    "        cd $download_dir\n",
    "        unzip $F -d $working_dir\n",
    "\t    echo \"File has been downloaded and uncompressed.\"\n",
    "    else \n",
    "\t    echo \"md5 do not match. Downloading database.\"\n",
    "        curl  https://www.kaggle.com/hugomathien/soccer/download > $download_dir/soccer.zip\n",
    "        cd $download_dir\n",
    "        unzip $F -d $working_dir\n",
    "        echo \"File has been downloaded and uncompressed.\"\n",
    "\t    exit\n",
    "    fi\n",
    "  \n",
    "  "
   ]
  },
  {
   "cell_type": "code",
   "execution_count": null,
   "metadata": {},
   "outputs": [],
   "source": []
  }
 ],
 "metadata": {
  "kernelspec": {
   "display_name": "Python 3",
   "language": "python",
   "name": "python3"
  },
  "language_info": {
   "codemirror_mode": {
    "name": "ipython",
    "version": 3
   },
   "file_extension": ".py",
   "mimetype": "text/x-python",
   "name": "python",
   "nbconvert_exporter": "python",
   "pygments_lexer": "ipython3",
   "version": "3.7.3"
  }
 },
 "nbformat": 4,
 "nbformat_minor": 2
}
