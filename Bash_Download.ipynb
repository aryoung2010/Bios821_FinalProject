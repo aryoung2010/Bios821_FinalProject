{
 "cells": [
  {
   "cell_type": "code",
   "execution_count": null,
   "metadata": {},
   "outputs": [],
   "source": [
    "%%bash\n",
    "# function (download directory, md5 directory, move y/n)\n",
    "# check if esdb.md5 exists in md5 directory\n",
    "# if file not there, download\n",
    "# check esdb.md5 against downloaded file md5\n",
    "# if md5 same, move file if requested\n",
    "# if md5 different, download, store md5\n",
    "\n",
    "if [[ -d $a ]]; then \n",
    "    echo \"$a is a Directory. Downloading\"\n",
    "    cd $a\n",
    "    # dowload data and md5\n",
    "    #curl  http://hgdownload.soe.ucsc.edu/goldenPath/hg38/bigZips/est.fa.gz > est.fa.gz\n",
    "    #curl http://hgdownload.soe.ucsc.edu/goldenPath/hg38/bigZips/est.fa.gz.md5  > est.fa.gz.md5\n",
    "    md5 est.fa.gz > download #save md5 character/number string downloaded(32,end)\n",
    "    cat download > downloadS\n",
    "    cut -d ' ' -f 4 downloadS > substringD\n",
    "    cat est.fa.gz.md5 > string #save md5 character/number string given(32,beginning)\n",
    "    cut -d ' ' -f 1 string > substring #cut to the first element of the string\n",
    "    #check congruence\n",
    "    if [$substringD == $substring]; then\n",
    "      echo $a\n",
    "\t    gunzip est.fa.gz\n",
    "\t    echo \"File has been downloaded and uncompressed.\"\n",
    "    else \n",
    "\t    echo \"md5 do not match.\"\n",
    "\t    exit\n",
    "\t  fi\n"
   ]
  },
  {
   "cell_type": "code",
   "execution_count": null,
   "metadata": {},
   "outputs": [],
   "source": [
    "\n",
    "https://gitlab.oit.duke.edu/bios821/european_soccer_database/raw/master/esdb.md5\n",
    "    \n",
    "https://www.kaggle.com/hugomathien/soccer/download"
   ]
  }
 ],
 "metadata": {
  "kernelspec": {
   "display_name": "Python 3",
   "language": "python",
   "name": "python3"
  },
  "language_info": {
   "codemirror_mode": {
    "name": "ipython",
    "version": 3
   },
   "file_extension": ".py",
   "mimetype": "text/x-python",
   "name": "python",
   "nbconvert_exporter": "python",
   "pygments_lexer": "ipython3",
   "version": "3.7.3"
  }
 },
 "nbformat": 4,
 "nbformat_minor": 2
}
