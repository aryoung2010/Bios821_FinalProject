{
 "cells": [
  {
   "cell_type": "markdown",
   "metadata": {},
   "source": [
    "## BIOS821 Final Project: European Soccer Database\n",
    "### Allison Young\n",
    "#### November 2019\n",
    "\n",
    "\n",
    "### Pre-work\n",
    "Please complete the following steps prior to running the script in this notebook.\n",
    "\n",
    "#### 1. Download the Data\n",
    "This repository does not contain any actual data. Thus, in order to use this code, you must first download the database\n",
    "from https://www.kaggle.com/hugomathien/soccer. From there, the code may be used to automate the rest of the process.\n",
    "\n",
    "#### 2. Create a MapBox Account\n",
    "If you wish to add additional functionality using the included soccer_geocode package, you will need to create your own account at https://www.mapbox.com/. Once you have made your own account, locate your account key via the account dashboard for mapbox. Copy this key, which should be a string of characters starting with \"pk.\", and add it export this vaule as the environmental variable \"MAP_PASS\" in your local home directory. For assistance with creating local environment variables in Mac OS, you can check out this helpful article : https://medium.com/@himanshuagarwal1395/setting-up-environment-variables-in-macos-sierra-f5978369b255\n",
    "\n",
    "In this case, the variable added to your .bash_profile should look something like this, with your own pass key in place of the Xs:\n",
    "\n",
    "export MAP_PASS=\"pk.XXXXXXXXXXXXXXXXXXXXXXXXXXXXXXXXXXXXXXXXXXXXXXXXXXXX\"\n",
    "\n",
    "Once you have downloaded the data to your computer's Download Folder, created your MapBox Account, and added your API key variable, you are ready to set up your working environment to best utilize the included scripts and packages. \n",
    "\n",
    "#### 3. Clone Repo to Local Machine\n",
    "Clone this repository to desired location on your local machine using gitlab.\n",
    "\n",
    "#### 4. Build and Run Docker Image (if you do not have appropriate packages and software on your local machine)\n",
    "Next, start a docker image on your machine, using the provided Dockerfile. To do this, simply navigate from terminal to your local copy of the repo and type the following into bash:\n",
    "\n",
    "*\"docker build -t soccer\"*\n",
    "\n",
    "This will create a container image on your local machine, called soccer. The build process may take several minutes to complete. Once finished, you can check the image has been built correctly by typing the following into bash, and checking that \"soccer\" is listed.\n",
    "\n",
    "*\"docker images\"*\n",
    "\n",
    "Finally, to run the container, type the following into bash:\n",
    "\n",
    "*\"docker run -it soccer bash\"*\n",
    "\n",
    "This will open the container on your terminal. \n",
    "\n",
    "#### 5. Open Repo in Jupyter Notebook or Lab\n",
    "From here, you can simply type \n",
    "*\"Jupyter Notebook\"*\n",
    "into the terminal, and it will bring you to a web portal, where you will enter the token provided as part of the html link the first time you open Jupyter. You have the option to set a password for future, more efficient access. \n",
    "\n",
    "Finally, you should see the repo on Jupyter Notebook, and be able to access the rest of the code via the jupyter notebook entitled \"European_Soccer_Database_Pipeline\".\n",
    "\n",
    "To exit the container at any time and return to your local terminal , press ctrl+d."
   ]
  },
  {
   "cell_type": "markdown",
   "metadata": {},
   "source": [
    "### Part I: Load the Soccer Database\n",
    "\n",
    "Part one of this script will check for the file downloaded to your computer in the downloads folder, ensure that it is the correct file by matching the md5 of the file against that of the desired file.\n",
    "\n",
    "Finally, the \"get_data.sh\" script will do unzip the downloaded file to the designated location of your local repository. In order for this to run, you will need to define three variables: a) the download directory, b) the location where you store md5 files (or simply the dowload directory again if you do not have an md5 directory), and c) the location of your repo."
   ]
  },
  {
   "cell_type": "code",
   "execution_count": null,
   "metadata": {},
   "outputs": [],
   "source": [
    "######## EXAMPLE############\n",
    "a=$HOME/Downloads \n",
    "b=$HOME/Documents/GitLab/md5s  \n",
    "c=$HOME/Documents/GitLab\n"
   ]
  },
  {
   "cell_type": "code",
   "execution_count": null,
   "metadata": {},
   "outputs": [
    {
     "name": "stdout",
     "output_type": "stream",
     "text": [
      "\r\n",
      "The default interactive shell is now zsh.\r\n",
      "To update your account to use zsh, please run `chsh -s /bin/zsh`.\r\n",
      "For more details, please visit https://support.apple.com/kb/HT208050.\r\n",
      "bash-3.2$ "
     ]
    }
   ],
   "source": [
    "!/bin/bash\n",
    "!bash get_data2.sh \n",
    "\n"
   ]
  },
  {
   "cell_type": "markdown",
   "metadata": {},
   "source": [
    "#### Add your directories to script"
   ]
  },
  {
   "cell_type": "code",
   "execution_count": null,
   "metadata": {},
   "outputs": [],
   "source": [
    "%%bash\n",
    "a=    #insert download directory\n",
    "b=    #insert md5 directory\n",
    "c=    #insert repo directory\n",
    "run get_data2.sh $a $b $c "
   ]
  },
  {
   "cell_type": "markdown",
   "metadata": {},
   "source": [
    "###"
   ]
  }
 ],
 "metadata": {
  "kernelspec": {
   "display_name": "Python 3",
   "language": "python",
   "name": "python3"
  },
  "language_info": {
   "codemirror_mode": {
    "name": "ipython",
    "version": 3
   },
   "file_extension": ".py",
   "mimetype": "text/x-python",
   "name": "python",
   "nbconvert_exporter": "python",
   "pygments_lexer": "ipython3",
   "version": "3.7.3"
  }
 },
 "nbformat": 4,
 "nbformat_minor": 2
}
