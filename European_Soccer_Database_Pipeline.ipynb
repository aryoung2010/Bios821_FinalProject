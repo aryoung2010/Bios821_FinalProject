{
 "cells": [
  {
   "cell_type": "markdown",
   "metadata": {},
   "source": [
    "## BIOS821 Final Project: European Soccer Database\n",
    "### Allison Young\n",
    "#### November 2019\n",
    "\n",
    "\n",
    "### Pre-work\n",
    "Please complete the following steps prior to running the script in this notebook.\n",
    "\n",
    "#### 1. Download the Data\n",
    "This repository does not contain any actual data. Thus, in order to use this code, you must first download the database\n",
    "from https://www.kaggle.com/hugomathien/soccer. From there, the code may be used to automate the rest of the process.\n",
    "\n",
    "#### 2. Create a MapBox Account\n",
    "If you wish to add additional functionality using the included soccer_geocode package, you will need to create your own account at https://www.mapbox.com/. Once you have made your own account, locate your account key via the account dashboard for mapbox. Copy this key, which should be a string of characters starting with \"pk.\", and add it export this vaule as the environmental variable \"MAP_PASS\" in your local home directory. For assistance with creating local environment variables in Mac OS, you can check out this helpful article : https://medium.com/@himanshuagarwal1395/setting-up-environment-variables-in-macos-sierra-f5978369b255\n",
    "\n",
    "In this case, the variable added to your .bash_profile should look something like this, with your own pass key in place of the Xs:\n",
    "\n",
    "export MAP_PASS=\"pk.XXXXXXXXXXXXXXXXXXXXXXXXXXXXXXXXXXXXXXXXXXXXXXXXXXXX\"\n",
    "\n",
    "Once you have downloaded the data to your computer's Download Folder, created your MapBox Account, and added your API key variable, you are ready to set up your working environment to best utilize the included scripts and packages. \n",
    "\n",
    "#### 3. Clone Repo to Local Machine\n",
    "Clone this repository to desired location on your local machine using gitlab.\n",
    "\n",
    "#### 4. Build and Run Docker Image (if you do not have appropriate packages and software on your local machine)\n",
    "Next, start a docker image on your machine, using the provided Dockerfile. To do this, simply navigate from terminal to your local copy of the repo and type the following into bash:\n",
    "\n",
    "*\"docker build -t soccer\"*\n",
    "\n",
    "This will create a container image on your local machine, called soccer. The build process may take several minutes to complete. Once finished, you can check the image has been built correctly by typing the following into bash, and checking that \"soccer\" is listed.\n",
    "\n",
    "*\"docker images\"*\n",
    "\n",
    "Finally, to run the container, type the following into bash:\n",
    "\n",
    "*\"docker run -it soccer bash\"*\n",
    "\n",
    "This will open the container on your terminal. \n",
    "\n",
    "#### 5. Open Repo in Jupyter Notebook or Lab\n",
    "From here, you can simply type \n",
    "*\"Jupyter Notebook\"*\n",
    "into the terminal, and it will bring you to a web portal, where you will enter the token provided as part of the html link the first time you open Jupyter. You have the option to set a password for future, more efficient access. \n",
    "\n",
    "Finally, you should see the repo on Jupyter Notebook, and be able to access the rest of the code via the jupyter notebook entitled \"European_Soccer_Database_Pipeline\".\n",
    "\n",
    "To exit the container at any time and return to your local terminal , press ctrl+d."
   ]
  },
  {
   "cell_type": "markdown",
   "metadata": {},
   "source": [
    "### Part I: Load the Soccer Database\n",
    "\n",
    "In order unzip the downloaded file, you will need to define three variables: a) the download directory, b) the location where you store md5 files (or simply the dowload directory again if you do not have an md5 directory), and c) the location of your repo, and then run the script \"get_data.sh\""
   ]
  },
  {
   "cell_type": "raw",
   "metadata": {},
   "source": [
    "######## EXAMPLE############\n",
    "!a=$HOME/Downloads \n",
    "!b=$HOME/Documents/GitLab/md5s  \n",
    "!c=$HOME/Documents/GitLab\n",
    "\n",
    "!/bin/bash\n",
    "!bash get_data.sh\n",
    "!prepare_data $HOME/Downloads  $HOME/Documents/GitLab/md5s  $HOME/Documents/GitLab"
   ]
  },
  {
   "cell_type": "markdown",
   "metadata": {},
   "source": [
    "### Add your directories to script here:\n",
    "\n",
    "**!a=**    *insert download directory here*\n",
    "\n",
    "**!b=**    *insert md5 directory here*\n",
    "\n",
    "**!c=**   *insert repo directory*"
   ]
  },
  {
   "cell_type": "code",
   "execution_count": null,
   "metadata": {},
   "outputs": [],
   "source": [
    "!a=    \n",
    "!b=   \n",
    "!c=   \n",
    "\n",
    "!/bin/bash\n",
    "!bash get_data.sh\n",
    "!prepare_data $a $b $c "
   ]
  },
  {
   "cell_type": "markdown",
   "metadata": {},
   "source": [
    "The \"get_data.sh\" script will check for the file downloaded to your computer in the downloads folder, ensure that it is the correct file by matching the md5 of the file against that of the desired file. Finally, it will unzip the downloaded file to the designated location of your local repository. "
   ]
  },
  {
   "cell_type": "markdown",
   "metadata": {},
   "source": [
    "### Part II: Connect to SQL Database and Create Geocode Table\n",
    "\n",
    "The next set of commands will create a connection to sqlite database, and then create a new table called \"geocodes\". Using the soccer_geocode package included in this repo, a MapBoxGeocoder object will accept a list of countries from the database, and use the MapBox API to add the latitude and longitude coordinates to the \"geocodes\" table."
   ]
  },
  {
   "cell_type": "code",
   "execution_count": 6,
   "metadata": {},
   "outputs": [
    {
     "ename": "NameError",
     "evalue": "name 'sql_fetch' is not defined",
     "output_type": "error",
     "traceback": [
      "\u001b[0;31m---------------------------------------------------------------------------\u001b[0m",
      "\u001b[0;31mNameError\u001b[0m                                 Traceback (most recent call last)",
      "\u001b[0;32m<ipython-input-6-4de167a31eb0>\u001b[0m in \u001b[0;36m<module>\u001b[0;34m\u001b[0m\n\u001b[1;32m     12\u001b[0m \u001b[0;34m\u001b[0m\u001b[0m\n\u001b[1;32m     13\u001b[0m \u001b[0;31m### Make Table\u001b[0m\u001b[0;34m\u001b[0m\u001b[0;34m\u001b[0m\u001b[0;34m\u001b[0m\u001b[0m\n\u001b[0;32m---> 14\u001b[0;31m \u001b[0mtm\u001b[0m\u001b[0;34m.\u001b[0m\u001b[0mtableMaker\u001b[0m\u001b[0;34m(\u001b[0m\u001b[0mconnection\u001b[0m\u001b[0;34m)\u001b[0m\u001b[0;34m\u001b[0m\u001b[0;34m\u001b[0m\u001b[0m\n\u001b[0m\u001b[1;32m     15\u001b[0m \u001b[0;34m\u001b[0m\u001b[0m\n\u001b[1;32m     16\u001b[0m \u001b[0;31m### Fetch Country list from database\u001b[0m\u001b[0;34m\u001b[0m\u001b[0;34m\u001b[0m\u001b[0;34m\u001b[0m\u001b[0m\n",
      "\u001b[0;32m~/Documents/GitLab/bios821_finalproject/soccer_geocode/TableMaker.py\u001b[0m in \u001b[0;36mtableMaker\u001b[0;34m(con)\u001b[0m\n\u001b[1;32m      4\u001b[0m \u001b[0;32mdef\u001b[0m \u001b[0mtableMaker\u001b[0m\u001b[0;34m(\u001b[0m\u001b[0mcon\u001b[0m\u001b[0;34m)\u001b[0m\u001b[0;34m:\u001b[0m\u001b[0;34m\u001b[0m\u001b[0;34m\u001b[0m\u001b[0m\n\u001b[1;32m      5\u001b[0m     \u001b[0mcursorObj\u001b[0m \u001b[0;34m=\u001b[0m \u001b[0mcon\u001b[0m\u001b[0;34m.\u001b[0m\u001b[0mcursor\u001b[0m\u001b[0;34m(\u001b[0m\u001b[0;34m)\u001b[0m\u001b[0;34m\u001b[0m\u001b[0;34m\u001b[0m\u001b[0m\n\u001b[0;32m----> 6\u001b[0;31m     \u001b[0mtables\u001b[0m \u001b[0;34m=\u001b[0m \u001b[0msql_fetch\u001b[0m\u001b[0;34m(\u001b[0m\u001b[0mconnection\u001b[0m\u001b[0;34m)\u001b[0m\u001b[0;34m\u001b[0m\u001b[0;34m\u001b[0m\u001b[0m\n\u001b[0m\u001b[1;32m      7\u001b[0m     \u001b[0;32mif\u001b[0m \u001b[0;34m(\u001b[0m\u001b[0;34m'geocodes'\u001b[0m\u001b[0;34m,\u001b[0m\u001b[0;34m)\u001b[0m \u001b[0;32min\u001b[0m \u001b[0mtables\u001b[0m\u001b[0;34m:\u001b[0m\u001b[0;34m\u001b[0m\u001b[0;34m\u001b[0m\u001b[0m\n\u001b[1;32m      8\u001b[0m         \u001b[0mprint\u001b[0m\u001b[0;34m(\u001b[0m\u001b[0;34m\"Table already exixts\"\u001b[0m\u001b[0;34m)\u001b[0m\u001b[0;34m\u001b[0m\u001b[0;34m\u001b[0m\u001b[0m\n",
      "\u001b[0;31mNameError\u001b[0m: name 'sql_fetch' is not defined"
     ]
    }
   ],
   "source": [
    "### Import packages\n",
    "import os\n",
    "import sqlite3\n",
    "from soccer_geocode import TableMaker as tm\n",
    "from soccer_geocode import MapBoxGeocoder,ConstrainedGeocoder\n",
    "\n",
    "### Connect to the database\n",
    "connection = sqlite3.connect(\"database.sqlite\")\n",
    "\n",
    "### Set API Key\n",
    "map_pass = os.environ.get('MAP_PASS') \n",
    "\n",
    "### Make Table\n",
    "tm.tableMaker(connection)\n",
    "\n",
    "### Fetch Country list from database\n",
    "countries = tm.fetchCountries(connection)\n",
    "\n",
    "### Initiate Geocoder\n",
    "G = MapBoxGeocoder()\n",
    "\n",
    "### Geocode countries (and regions)\n",
    "G.labelCountries()\n",
    "G.geocode(map_pass,countries)\n",
    "\n",
    "### Package Table Attributes\n",
    "data_tuples = G.packageTable()\n",
    "\n",
    "### Fill Table\n",
    "tm.addValues(connection,data_tuples)\n",
    "\n",
    "### Show Table, to confirm process was successful\n",
    "tm.fetchRows(connection)"
   ]
  },
  {
   "cell_type": "code",
   "execution_count": null,
   "metadata": {},
   "outputs": [],
   "source": []
  },
  {
   "cell_type": "markdown",
   "metadata": {},
   "source": [
    "### Part III: Building a Working Analytic Dataset"
   ]
  }
 ],
 "metadata": {
  "kernelspec": {
   "display_name": "Python 3",
   "language": "python",
   "name": "python3"
  },
  "language_info": {
   "codemirror_mode": {
    "name": "ipython",
    "version": 3
   },
   "file_extension": ".py",
   "mimetype": "text/x-python",
   "name": "python",
   "nbconvert_exporter": "python",
   "pygments_lexer": "ipython3",
   "version": "3.7.3"
  }
 },
 "nbformat": 4,
 "nbformat_minor": 2
}
